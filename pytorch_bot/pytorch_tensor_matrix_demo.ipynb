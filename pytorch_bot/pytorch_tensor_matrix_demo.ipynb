{
 "cells": [
  {
   "cell_type": "code",
   "execution_count": 2,
   "metadata": {},
   "outputs": [],
   "source": [
    "import torch"
   ]
  },
  {
   "cell_type": "code",
   "execution_count": 3,
   "metadata": {},
   "outputs": [],
   "source": [
    "import torchvision"
   ]
  },
  {
   "cell_type": "code",
   "execution_count": 5,
   "metadata": {},
   "outputs": [
    {
     "name": "stdout",
     "output_type": "stream",
     "text": [
      "False\n"
     ]
    }
   ],
   "source": [
    "print(torch.cuda.is_available())"
   ]
  },
  {
   "cell_type": "code",
   "execution_count": 6,
   "metadata": {},
   "outputs": [
    {
     "name": "stdout",
     "output_type": "stream",
     "text": [
      "tensor([ 2,  2,  1])\n"
     ]
    }
   ],
   "source": [
    "#this is a 1-D Tensor\n",
    "a=torch.tensor([2,2,1])\n",
    "print(a)"
   ]
  },
  {
   "cell_type": "code",
   "execution_count": 7,
   "metadata": {},
   "outputs": [
    {
     "name": "stdout",
     "output_type": "stream",
     "text": [
      "tensor([[ 2,  1,  4],\n",
      "        [ 3,  5,  4],\n",
      "        [ 1,  2,  0],\n",
      "        [ 4,  3,  2]])\n"
     ]
    }
   ],
   "source": [
    "#This is a 2-D Tensor\n",
    "b=torch.tensor([[2,1,4],[3,5,4],[1,2,0],[4,3,2]])\n",
    "print(b)"
   ]
  },
  {
   "cell_type": "code",
   "execution_count": 8,
   "metadata": {},
   "outputs": [
    {
     "name": "stdout",
     "output_type": "stream",
     "text": [
      "torch.Size([3])\n",
      "torch.Size([4, 3])\n",
      "torch.Size([3])\n",
      "torch.Size([4, 3])\n"
     ]
    }
   ],
   "source": [
    "#The size of the tensors\n",
    "print(a.shape)\n",
    "print(b.shape)\n",
    "print(a.size())\n",
    "print(b.size())"
   ]
  },
  {
   "cell_type": "code",
   "execution_count": 9,
   "metadata": {},
   "outputs": [
    {
     "name": "stdout",
     "output_type": "stream",
     "text": [
      "4\n"
     ]
    }
   ],
   "source": [
    "#Get the height/number of rows of b\n",
    "print(b.shape[0])"
   ]
  },
  {
   "cell_type": "code",
   "execution_count": 10,
   "metadata": {},
   "outputs": [],
   "source": [
    "c=torch.FloatTensor([[2,1,4],[3,5,4],[1,2,0],[4,3,2]])\n",
    "#or we can do\n",
    "#c=torch.ensor([2,2,1,dtype=torch.float])"
   ]
  },
  {
   "cell_type": "code",
   "execution_count": 11,
   "metadata": {},
   "outputs": [],
   "source": [
    "d=torch.DoubleTensor([[2,1,4],[3,5,4],[1,2,0],[4,3,2]])\n",
    "#or we can do\n",
    "#d=torch.tensor([2,2,1],dtype=torch.double)"
   ]
  },
  {
   "cell_type": "code",
   "execution_count": 12,
   "metadata": {},
   "outputs": [
    {
     "name": "stdout",
     "output_type": "stream",
     "text": [
      "tensor([[ 2.,  1.,  4.],\n",
      "        [ 3.,  5.,  4.],\n",
      "        [ 1.,  2.,  0.],\n",
      "        [ 4.,  3.,  2.]])\n",
      "torch.float32\n"
     ]
    }
   ],
   "source": [
    "print(c)\n",
    "print(c.dtype)"
   ]
  },
  {
   "cell_type": "code",
   "execution_count": 13,
   "metadata": {},
   "outputs": [
    {
     "name": "stdout",
     "output_type": "stream",
     "text": [
      "tensor([[ 2.,  1.,  4.],\n",
      "        [ 3.,  5.,  4.],\n",
      "        [ 1.,  2.,  0.],\n",
      "        [ 4.,  3.,  2.]], dtype=torch.float64)\n",
      "torch.float64\n"
     ]
    }
   ],
   "source": [
    "print(d)\n",
    "print(d.dtype)"
   ]
  },
  {
   "cell_type": "code",
   "execution_count": 14,
   "metadata": {},
   "outputs": [
    {
     "name": "stdout",
     "output_type": "stream",
     "text": [
      "tensor(2.5833)\n"
     ]
    }
   ],
   "source": [
    "print(c.mean())\n",
    "#求取均值"
   ]
  },
  {
   "cell_type": "code",
   "execution_count": 15,
   "metadata": {},
   "outputs": [
    {
     "name": "stdout",
     "output_type": "stream",
     "text": [
      "tensor(2.5833, dtype=torch.float64)\n"
     ]
    }
   ],
   "source": [
    "print(d.mean())"
   ]
  },
  {
   "cell_type": "code",
   "execution_count": 16,
   "metadata": {},
   "outputs": [
    {
     "name": "stdout",
     "output_type": "stream",
     "text": [
      "tensor(1.5050)\n"
     ]
    }
   ],
   "source": [
    "print(c.std())\n",
    "#求标准差"
   ]
  },
  {
   "cell_type": "code",
   "execution_count": 17,
   "metadata": {},
   "outputs": [
    {
     "name": "stdout",
     "output_type": "stream",
     "text": [
      "tensor(1.5050, dtype=torch.float64)\n"
     ]
    }
   ],
   "source": [
    "print(d.std())"
   ]
  },
  {
   "cell_type": "code",
   "execution_count": 19,
   "metadata": {},
   "outputs": [
    {
     "name": "stdout",
     "output_type": "stream",
     "text": [
      "tensor([[ 2],\n",
      "        [ 1],\n",
      "        [ 4],\n",
      "        [ 3],\n",
      "        [ 5],\n",
      "        [ 4],\n",
      "        [ 1],\n",
      "        [ 2],\n",
      "        [ 0],\n",
      "        [ 4],\n",
      "        [ 3],\n",
      "        [ 2]])\n",
      "tensor([ 2,  1,  4,  3,  5,  4,  1,  2,  0,  4,  3,  2])\n",
      "tensor([[ 2,  1,  4,  3],\n",
      "        [ 5,  4,  1,  2],\n",
      "        [ 0,  4,  3,  2]])\n",
      "tensor([[ 2,  1,  4,  3],\n",
      "        [ 5,  4,  1,  2],\n",
      "        [ 0,  4,  3,  2]])\n"
     ]
    }
   ],
   "source": [
    "#Reshape b\n",
    "#Note:If one of the dimensions is -1, its size can be inferred\n",
    "print(b.view(-1,1))\n",
    "print(b.view(12))\n",
    "print(b.view(-1,4))\n",
    "print(b.view(3,4))"
   ]
  },
  {
   "cell_type": "code",
   "execution_count": 21,
   "metadata": {},
   "outputs": [
    {
     "name": "stdout",
     "output_type": "stream",
     "text": [
      "tensor([[ 2,  1,  4,  3,  5,  4,  1,  2,  0,  4,  3,  2]])\n",
      "torch.Size([1, 12])\n",
      "\n",
      "\n",
      "\n",
      "\n",
      "tensor([[[ 1.7081, -0.6614, -2.0940, -1.3346],\n",
      "         [ 0.8651, -0.7766, -0.1780,  1.0173],\n",
      "         [ 0.5499,  0.4557,  1.1252, -0.1963]],\n",
      "\n",
      "        [[ 0.0927, -1.7965,  0.5281,  2.5165],\n",
      "         [-0.4610,  0.1437,  1.4804,  0.3369],\n",
      "         [-0.9207, -0.8173, -0.0567,  0.8351]]])\n",
      "tensor([[ 1.7081, -0.6614, -2.0940, -1.3346,  0.8651, -0.7766, -0.1780,\n",
      "          1.0173,  0.5499,  0.4557,  1.1252, -0.1963],\n",
      "        [ 0.0927, -1.7965,  0.5281,  2.5165, -0.4610,  0.1437,  1.4804,\n",
      "          0.3369, -0.9207, -0.8173, -0.0567,  0.8351]])\n",
      "tensor([[ 1.7081, -0.6614, -2.0940, -1.3346,  0.8651, -0.7766, -0.1780,\n",
      "          1.0173,  0.5499,  0.4557,  1.1252, -0.1963],\n",
      "        [ 0.0927, -1.7965,  0.5281,  2.5165, -0.4610,  0.1437,  1.4804,\n",
      "          0.3369, -0.9207, -0.8173, -0.0567,  0.8351]])\n"
     ]
    }
   ],
   "source": [
    "#Assign b a new shape\n",
    "b=b.view(1,-1)\n",
    "print(b)\n",
    "print(b.shape)\n",
    "#We can even reshape 3D tensors\n",
    "print('\\n')\n",
    "#Create a 3D Tensor with 2 channels, 3 rows and 4 columns (channels, rows, columns)\n",
    "#torch.randn(*sizes, out=None) → Tensor\n",
    "#返回一个张量，包含了从标准正态分布（均值为0，方差为1，即高斯白噪声）中抽取的一组随机数。\n",
    "#张量的形状由参数sizes定义。\n",
    "three_dim=torch.randn(2,3,4)\n",
    "print('\\n')\n",
    "print(three_dim)\n",
    "print(three_dim.view(2,12)) # Reshape to 2 rows, 12 columns\n",
    "print(three_dim.view(2,-1))"
   ]
  },
  {
   "cell_type": "code",
   "execution_count": 22,
   "metadata": {},
   "outputs": [
    {
     "name": "stdout",
     "output_type": "stream",
     "text": [
      "tensor([[ 0.1506,  0.4688,  0.6062,  0.1516],\n",
      "        [ 0.8300,  0.8133,  0.6374,  0.8972],\n",
      "        [ 0.5959,  0.8155,  0.6079,  0.6395],\n",
      "        [ 0.8541,  0.6399,  0.5635,  0.7044]])\n"
     ]
    }
   ],
   "source": [
    "#Create a matric with random numbers between 0 and 1\n",
    "#torch.rand(*sizes, out=None) → Tensor\n",
    "#返回一个张量，包含了从区间[0, 1)的均匀分布中抽取的一组随机数。\n",
    "#张量的形状由参数sizes定义。\n",
    "r=torch.rand(4,4)\n",
    "print(r)"
   ]
  },
  {
   "cell_type": "code",
   "execution_count": 23,
   "metadata": {},
   "outputs": [
    {
     "name": "stdout",
     "output_type": "stream",
     "text": [
      "tensor([[ 0.1522, -0.5220, -0.1074,  0.1575],\n",
      "        [-0.6944,  0.4178, -0.3124, -1.5074],\n",
      "        [-1.2755,  1.1937, -0.3954,  0.8207],\n",
      "        [-1.4138,  0.3622, -0.9647,  0.1603]])\n",
      "torch.float32\n"
     ]
    }
   ],
   "source": [
    "#Create an matrix with random numbers taken from a normal distribution with\n",
    "#mean 0 and variance 1\n",
    "r2=torch.randn(4,4)\n",
    "print(r2)\n",
    "print(r2.dtype)"
   ]
  },
  {
   "cell_type": "code",
   "execution_count": 26,
   "metadata": {},
   "outputs": [
    {
     "name": "stdout",
     "output_type": "stream",
     "text": [
      "tensor([ 6.,  8.,  6.,  9.,  8.])\n",
      "torch.float32\n"
     ]
    }
   ],
   "source": [
    "#Create an array of 5 random integers from values between 6 and 9(exclusize of 10)\n",
    "in_array=torch.randint(6,10,(5,))\n",
    "print(in_array)\n",
    "print(in_array.dtype)"
   ]
  },
  {
   "cell_type": "code",
   "execution_count": 28,
   "metadata": {},
   "outputs": [
    {
     "name": "stdout",
     "output_type": "stream",
     "text": [
      "tensor([[ 6.,  7.,  9.],\n",
      "        [ 9.,  9.,  6.],\n",
      "        [ 7.,  8.,  7.]])\n"
     ]
    }
   ],
   "source": [
    "#Create a 2-D array (or matrix) of size 3*3 filled with random integers\n",
    "#between 6 and 9 (exclusive of 10)\n",
    "in_array2=torch.randint(6,10,(3,3))\n",
    "print(in_array2)"
   ]
  },
  {
   "cell_type": "code",
   "execution_count": 29,
   "metadata": {},
   "outputs": [
    {
     "name": "stdout",
     "output_type": "stream",
     "text": [
      "5\n",
      "9\n"
     ]
    }
   ],
   "source": [
    "#Get the number of elements in in_array\n",
    "print(torch.numel(in_array))\n",
    "#Get the number of elements in in_array_2\n",
    "print(torch.numel(in_array2))"
   ]
  },
  {
   "cell_type": "code",
   "execution_count": 30,
   "metadata": {},
   "outputs": [
    {
     "name": "stdout",
     "output_type": "stream",
     "text": [
      "tensor([[ 0,  0,  0],\n",
      "        [ 0,  0,  0],\n",
      "        [ 0,  0,  0]])\n",
      "tensor([[ 1.,  1.,  1.],\n",
      "        [ 1.,  1.,  1.],\n",
      "        [ 1.,  1.,  1.]])\n",
      "torch.float32\n"
     ]
    }
   ],
   "source": [
    "#Construct a 3*3 matrix of zero and of dtype long:\n",
    "z=torch.zeros(3,3,dtype=torch.long)\n",
    "print(z)\n",
    "#Construct a 3*3 matrix of ones\n",
    "o=torch.ones(3,3)\n",
    "#pytorch的自动类型是float\n",
    "print(o)\n",
    "print(o.dtype)"
   ]
  },
  {
   "cell_type": "code",
   "execution_count": 32,
   "metadata": {},
   "outputs": [
    {
     "name": "stdout",
     "output_type": "stream",
     "text": [
      "tensor([[-0.3689, -1.1523,  1.3534,  0.5507],\n",
      "        [ 1.2853, -0.9601, -0.5172,  0.0778],\n",
      "        [ 0.5381, -3.3371,  0.2156, -0.8474],\n",
      "        [-1.0208,  0.9740,  0.7008, -0.3437]], dtype=torch.float64)\n"
     ]
    }
   ],
   "source": [
    "#建一个和r2同尺寸的符合正太分布的随机tensor\n",
    "r2_like=torch.randn_like(r2,dtype=torch.double)\n",
    "print(r2_like)"
   ]
  },
  {
   "cell_type": "code",
   "execution_count": 33,
   "metadata": {},
   "outputs": [
    {
     "name": "stdout",
     "output_type": "stream",
     "text": [
      "tensor([[ 0.3027, -0.0532,  0.4988,  0.3091],\n",
      "        [ 0.1356,  1.2312,  0.3249, -0.6102],\n",
      "        [-0.6796,  2.0091,  0.2125,  1.4602],\n",
      "        [-0.5597,  1.0021, -0.4013,  0.8647]])\n"
     ]
    }
   ],
   "source": [
    "#Add two tensors, make sure they are the same size and data type\n",
    "add_result=torch.add(r,r2)\n",
    "print(add_result)"
   ]
  },
  {
   "cell_type": "code",
   "execution_count": 34,
   "metadata": {},
   "outputs": [
    {
     "name": "stdout",
     "output_type": "stream",
     "text": [
      "tensor([[ 0.3027, -0.0532,  0.4988,  0.3091],\n",
      "        [ 0.1356,  1.2312,  0.3249, -0.6102],\n",
      "        [-0.6796,  2.0091,  0.2125,  1.4602],\n",
      "        [-0.5597,  1.0021, -0.4013,  0.8647]])\n"
     ]
    }
   ],
   "source": [
    "#In-place addition (change the value of r2)\n",
    "#加下划线的add会直接进行替换，将r2和r的值的和赋值给了r2\n",
    "r2.add_(r)\n",
    "print(r2)"
   ]
  },
  {
   "cell_type": "code",
   "execution_count": 36,
   "metadata": {},
   "outputs": [
    {
     "name": "stdout",
     "output_type": "stream",
     "text": [
      "tensor([-0.0532,  1.2312,  2.0091,  1.0021])\n",
      "tensor([[ 0.3027, -0.0532],\n",
      "        [ 0.1356,  1.2312],\n",
      "        [-0.6796,  2.0091],\n",
      "        [-0.5597,  1.0021]])\n",
      "tensor([[ 0.3027, -0.0532,  0.4988,  0.3091],\n",
      "        [ 0.1356,  1.2312,  0.3249, -0.6102],\n",
      "        [-0.6796,  2.0091,  0.2125,  1.4602]])\n",
      "tensor(1.4602)\n",
      "1.460208535194397\n",
      "tensor([-0.6796,  2.0091,  0.2125,  1.4602])\n"
     ]
    }
   ],
   "source": [
    "print(r2[:,1])\n",
    "print(r2[:,:2])\n",
    "print(r2[:3,:])\n",
    "num_ten=r2[2,3]\n",
    "print(num_ten)#这个出来的结果是一个tensor\n",
    "print(num_ten.item())#这样可以将结果从tensor中拿出来\n",
    "print(r2[2,:])"
   ]
  },
  {
   "cell_type": "code",
   "execution_count": null,
   "metadata": {},
   "outputs": [],
   "source": []
  }
 ],
 "metadata": {
  "kernelspec": {
   "display_name": "Python [conda env:pytorch] *",
   "language": "python",
   "name": "conda-env-pytorch-py"
  },
  "language_info": {
   "codemirror_mode": {
    "name": "ipython",
    "version": 3
   },
   "file_extension": ".py",
   "mimetype": "text/x-python",
   "name": "python",
   "nbconvert_exporter": "python",
   "pygments_lexer": "ipython3",
   "version": "3.6.12"
  }
 },
 "nbformat": 4,
 "nbformat_minor": 2
}
